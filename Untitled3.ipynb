{
 "cells": [
  {
   "cell_type": "code",
   "execution_count": 9,
   "id": "a52b0b04-6b03-47ae-b86b-d35eca4e05a0",
   "metadata": {},
   "outputs": [
    {
     "name": "stdout",
     "output_type": "stream",
     "text": [
      "9\n",
      "1\n",
      "27\n",
      "2.0\n"
     ]
    }
   ],
   "source": [
    "def add (a,b) :\n",
    "  return a+b\n",
    "print (add(4,5))\n",
    "\n",
    "def subtract (c,d) :\n",
    " return c-d\n",
    "print (subtract(7,6))\n",
    "\n",
    "def multiply (v,x) :\n",
    "    return v*x\n",
    "print (multiply(3,9))\n",
    "\n",
    "def divide (s,f) :\n",
    "    return s/f\n",
    "print (divide(4,2))"
   ]
  }
 ],
 "metadata": {
  "kernelspec": {
   "display_name": "Python [conda env:base] *",
   "language": "python",
   "name": "conda-base-py"
  },
  "language_info": {
   "codemirror_mode": {
    "name": "ipython",
    "version": 3
   },
   "file_extension": ".py",
   "mimetype": "text/x-python",
   "name": "python",
   "nbconvert_exporter": "python",
   "pygments_lexer": "ipython3",
   "version": "3.13.5"
  }
 },
 "nbformat": 4,
 "nbformat_minor": 5
}
