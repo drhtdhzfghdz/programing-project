{
 "cells": [
  {
   "cell_type": "code",
   "execution_count": 1,
   "id": "b900dcd4-bb0b-4355-bd79-4cf709f28d77",
   "metadata": {},
   "outputs": [
    {
     "name": "stdout",
     "output_type": "stream",
     "text": [
      "Requirement already satisfied: numpy in c:\\users\\pc\\anaconda3\\lib\\site-packages (2.1.3)\n",
      "Note: you may need to restart the kernel to use updated packages.\n"
     ]
    }
   ],
   "source": [
    "pip install numpy"
   ]
  },
  {
   "cell_type": "code",
   "execution_count": 22,
   "id": "4035e226-a909-4d70-9299-d7d9a7400db9",
   "metadata": {},
   "outputs": [
    {
     "name": "stdout",
     "output_type": "stream",
     "text": [
      "[15 24 33 42 51]\n",
      "[ 5 16 27 38 49]\n",
      "[50 80 90 80 50]\n",
      "[ 2.  5. 10. 20. 50.]\n",
      "10\n",
      "50\n",
      "150\n",
      "Dot product: 350\n"
     ]
    }
   ],
   "source": [
    "import numpy as np\n",
    "\n",
    "a= np.array([10,20,30,40,50])\n",
    "b= np.array([5,4,3,2,1])\n",
    "print(a + b)\n",
    "print(a-b)\n",
    "print(a*b)\n",
    "print(a/b)\n",
    "\n",
    "print(a.min())\n",
    "print(a.max())\n",
    "print(a.sum())\n",
    "\n",
    "dot_product=np.dot(a,b)\n",
    "print(\"Dot product:\" , dot_product)\n",
    "\n",
    "\n",
    "\n"
   ]
  },
  {
   "cell_type": "code",
   "execution_count": null,
   "id": "50398e71-e9f0-41b2-80f9-9da046ab28ee",
   "metadata": {},
   "outputs": [],
   "source": []
  }
 ],
 "metadata": {
  "kernelspec": {
   "display_name": "Python [conda env:base] *",
   "language": "python",
   "name": "conda-base-py"
  },
  "language_info": {
   "codemirror_mode": {
    "name": "ipython",
    "version": 3
   },
   "file_extension": ".py",
   "mimetype": "text/x-python",
   "name": "python",
   "nbconvert_exporter": "python",
   "pygments_lexer": "ipython3",
   "version": "3.13.5"
  }
 },
 "nbformat": 4,
 "nbformat_minor": 5
}
