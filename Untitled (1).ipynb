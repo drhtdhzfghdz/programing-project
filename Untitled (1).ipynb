{
 "cells": [
  {
   "cell_type": "code",
   "execution_count": 24,
   "id": "7711d77d-96e2-486a-b67b-82cef86b880d",
   "metadata": {},
   "outputs": [],
   "source": [
    "# defining variable for the prices\n",
    "item1=200\n",
    "item2=400\n",
    "item3=600"
   ]
  },
  {
   "cell_type": "code",
   "execution_count": 25,
   "id": "e226b27f-fd7e-4dc8-a698-702a9b6a3dc2",
   "metadata": {},
   "outputs": [],
   "source": [
    "# defining the budget\n",
    "budget = 2000"
   ]
  },
  {
   "cell_type": "code",
   "execution_count": 26,
   "id": "f02dad85-ca8c-4fc4-bee1-2b8c5c64edec",
   "metadata": {},
   "outputs": [],
   "source": [
    "# calculate the total cost of the items \n",
    "total_cost =200+400+600"
   ]
  },
  {
   "cell_type": "code",
   "execution_count": 27,
   "id": "bdc1084f-bf6e-4210-9ca3-55dbf738a44e",
   "metadata": {},
   "outputs": [
    {
     "name": "stdout",
     "output_type": "stream",
     "text": [
      "total_cost 1200\n"
     ]
    }
   ],
   "source": [
    "print(\"total_cost\", total_cost)"
   ]
  },
  {
   "cell_type": "code",
   "execution_count": 30,
   "id": "5c722c87-270c-46f1-b195-cd23dce1832b",
   "metadata": {},
   "outputs": [],
   "source": [
    "# compare the total cost with the budget\n",
    "money_left = budget - total_cost "
   ]
  },
  {
   "cell_type": "code",
   "execution_count": 31,
   "id": "9d104e1e-8b77-444e-b430-06e6cdce96a4",
   "metadata": {},
   "outputs": [
    {
     "name": "stdout",
     "output_type": "stream",
     "text": [
      "money_left 800\n"
     ]
    }
   ],
   "source": [
    "print(\"money_left\" , money_left)"
   ]
  }
 ],
 "metadata": {
  "kernelspec": {
   "display_name": "Python [conda env:base] *",
   "language": "python",
   "name": "conda-base-py"
  },
  "language_info": {
   "codemirror_mode": {
    "name": "ipython",
    "version": 3
   },
   "file_extension": ".py",
   "mimetype": "text/x-python",
   "name": "python",
   "nbconvert_exporter": "python",
   "pygments_lexer": "ipython3",
   "version": "3.13.5"
  }
 },
 "nbformat": 4,
 "nbformat_minor": 5
}
