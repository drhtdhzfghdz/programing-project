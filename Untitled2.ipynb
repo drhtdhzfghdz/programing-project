{
 "cells": [
  {
   "cell_type": "code",
   "execution_count": 26,
   "id": "28bba556-8a0b-49c1-b680-051f3e9808f8",
   "metadata": {},
   "outputs": [
    {
     "name": "stdout",
     "output_type": "stream",
     "text": [
      "{'ali': 57568897, 'ahmed': 2575475, 'sara': 4457475, 'omar': 9787797, 'mohamed': 5757675}\n"
     ]
    }
   ],
   "source": [
    "contacts = {\"ali\" : 57568897, \"ahmed\" : 2575475}\n",
    "\n",
    "contacts[\"sara\"] = 4457475\n",
    "contacts[\"omar\"] = 9787797\n",
    "contacts[\"mohamed\"] = 5757675\n",
    "print(contacts)"
   ]
  },
  {
   "cell_type": "code",
   "execution_count": 18,
   "id": "552cfb0e-3a0b-4e66-8377-f9b1ac3828d3",
   "metadata": {},
   "outputs": [
    {
     "name": "stdout",
     "output_type": "stream",
     "text": [
      "Ali's average grade: 80.00\n",
      "Omar's average grade: 85.00\n"
     ]
    }
   ],
   "source": [
    "students = [\n",
    "    {\"name\": \"Ali\", \"grades\": [90, 80, 70]},\n",
    "    {\"name\": \"Omar\", \"grades\": [85, 80, 90]},]\n",
    "    \n",
    "for student in students:\n",
    "    name = student[\"name\"]\n",
    "    grades = student[\"grades\"]\n",
    "    average = sum(grades) / len(grades)\n",
    "    print(f\"{name}'s average grade: {average:.2f}\")"
   ]
  },
  {
   "cell_type": "code",
   "execution_count": null,
   "id": "b439013e-c7e5-4a2b-a748-58996b7336db",
   "metadata": {},
   "outputs": [],
   "source": []
  }
 ],
 "metadata": {
  "kernelspec": {
   "display_name": "Python [conda env:base] *",
   "language": "python",
   "name": "conda-base-py"
  },
  "language_info": {
   "codemirror_mode": {
    "name": "ipython",
    "version": 3
   },
   "file_extension": ".py",
   "mimetype": "text/x-python",
   "name": "python",
   "nbconvert_exporter": "python",
   "pygments_lexer": "ipython3",
   "version": "3.13.5"
  }
 },
 "nbformat": 4,
 "nbformat_minor": 5
}
